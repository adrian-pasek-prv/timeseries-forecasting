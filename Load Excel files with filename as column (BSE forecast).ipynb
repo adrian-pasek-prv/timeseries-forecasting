{
 "cells": [
  {
   "cell_type": "code",
   "execution_count": 53,
   "id": "ecc453a2",
   "metadata": {},
   "outputs": [],
   "source": [
    "import os\n",
    "import pandas as pd"
   ]
  },
  {
   "cell_type": "markdown",
   "id": "462b329f",
   "metadata": {},
   "source": [
    "# Iterating through every Excel forecast file and saving it into big df"
   ]
  },
  {
   "cell_type": "code",
   "execution_count": 56,
   "id": "a93da2c9",
   "metadata": {},
   "outputs": [],
   "source": [
    "# Get the file names from the folder\n",
    "dirpath = 'Y:\\\\BI files\\\\Tableau\\\\Personal Tableau\\\\Adrian\\\\Projects\\\\Bestseller Forecast Bulks\\\\Forecast - Weekly update\\\\'\n",
    "for _, _, files in os.walk(dirpath):\n",
    "    filename_list = files\n",
    "\n",
    "# Initialize empty DataFrame for appending\n",
    "df_bulk = pd.DataFrame()\n",
    "\n",
    "# Iterate through file list of forecast and append to df_bulk\n",
    "for file in filename_list:\n",
    "    \n",
    "    # Read Excel into DataFrame\n",
    "    df = pd.read_excel(io=dirpath + file,\n",
    "                       sheet_name='INGRAM MICRO',\n",
    "                       header=None)\n",
    "    \n",
    "    # Drop empty rows\n",
    "    df.dropna(axis=0,\n",
    "          how='all',\n",
    "          subset=[0],\n",
    "          inplace=True)\n",
    "    \n",
    "    # Set row labels as index and filter only by two columns\n",
    "    df.set_index(0, inplace=True)\n",
    "    df = df.loc[['Calendar date', 'Demand units: dropship TOTAL']]\n",
    "    \n",
    "    # Drop first column that contains only Totals\n",
    "    df.drop(axis=1, columns=1)\n",
    "    \n",
    "    # Transpose df so that columns are rows and remove NaT rows\n",
    "    df = df.transpose()\n",
    "    df.dropna(inplace=True)\n",
    "    \n",
    "    # Add filename column slicing last 14 characters\n",
    "    df['Filename'] = file[-14:]\n",
    "    \n",
    "    # Concatenate dataframe into big one\n",
    "    df_bulk = pd.concat(objs=[df_bulk, df], axis=0, ignore_index=True)\n",
    "    "
   ]
  },
  {
   "cell_type": "markdown",
   "id": "9a7b5e44",
   "metadata": {},
   "source": [
    "# Clean up"
   ]
  },
  {
   "cell_type": "code",
   "execution_count": 57,
   "id": "ab5070df",
   "metadata": {
    "scrolled": true
   },
   "outputs": [],
   "source": [
    "# Add column where all non-numeric characters will be excluded\n",
    "df_bulk['Num_Filename'] = df_bulk['Filename'].replace('[^0-9]', '', regex=True)\n",
    "\n",
    "# Remove whitespace from \"Demand units: dropship TOTAL\" and drop NaN\n",
    "df_bulk['Demand units: dropship TOTAL'].replace(' ', '', regex=True, inplace=True)\n",
    "df_bulk['Demand units: dropship TOTAL'].dropna(inplace=True)\n",
    "\n",
    "# Change data type to int64 and date\n",
    "df_bulk = df_bulk.astype({'Num_Filename': 'int64', 'Demand units: dropship TOTAL': 'int64'})\n",
    "df_bulk['Calendar date'] = pd.to_datetime(df_bulk['Calendar date'])"
   ]
  },
  {
   "cell_type": "code",
   "execution_count": 84,
   "id": "d1d06924",
   "metadata": {},
   "outputs": [
    {
     "name": "stderr",
     "output_type": "stream",
     "text": [
      "C:\\Users\\208896\\AppData\\Local\\Temp/ipykernel_25500/1723218724.py:13: FutureWarning: Treating datetime data as categorical rather than numeric in `.describe` is deprecated and will be removed in a future version of pandas. Specify `datetime_is_numeric=True` to silence this warning and adopt the future behavior now.\n",
      "  df_bulk['Calendar date'].describe()\n"
     ]
    },
    {
     "data": {
      "text/plain": [
       "count                    1106\n",
       "unique                   1106\n",
       "top       2021-10-25 00:00:00\n",
       "freq                        1\n",
       "first     2018-12-31 00:00:00\n",
       "last      2022-01-09 00:00:00\n",
       "Name: Calendar date, dtype: object"
      ]
     },
     "execution_count": 84,
     "metadata": {},
     "output_type": "execute_result"
    }
   ],
   "source": [
    "# Sort df by Num_Filename to have the freshest forecast at the top\n",
    "df_bulk.sort_values(by=['Num_Filename', 'Calendar date'], \n",
    "                    axis='rows',\n",
    "                    ascending=[False, True],\n",
    "                    inplace=True)\n",
    "\n",
    "df_bulk.drop_duplicates(subset=['Calendar date'], \n",
    "                        keep='first',\n",
    "                        inplace=True,\n",
    "                        ignore_index=True)\n",
    "\n",
    "df_bulk['Calendar date'].describe() # check the date range of data"
   ]
  },
  {
   "cell_type": "code",
   "execution_count": 90,
   "id": "a8caf7cc",
   "metadata": {},
   "outputs": [],
   "source": [
    "# Prepare data for export into Facebook Prophet\n",
    "\n",
    "df_export = df_bulk[['Calendar date', 'Demand units: dropship TOTAL']].copy()\n",
    "df_export.sort_values(by=['Calendar date'], ascending=True, inplace=True, ignore_index=True)\n",
    "df_export.columns = ['ds', 'y']\n",
    "\n",
    "# Write as csv\n",
    "df_export.to_csv('bse_forecast.csv', \n",
    "                 sep=',',\n",
    "                 index=False\n",
    "                 )"
   ]
  }
 ],
 "metadata": {
  "kernelspec": {
   "display_name": "Python 3 (ipykernel)",
   "language": "python",
   "name": "python3"
  },
  "language_info": {
   "codemirror_mode": {
    "name": "ipython",
    "version": 3
   },
   "file_extension": ".py",
   "mimetype": "text/x-python",
   "name": "python",
   "nbconvert_exporter": "python",
   "pygments_lexer": "ipython3",
   "version": "3.9.7"
  }
 },
 "nbformat": 4,
 "nbformat_minor": 5
}
